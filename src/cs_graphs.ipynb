{
 "metadata": {
  "language_info": {
   "codemirror_mode": {
    "name": "ipython",
    "version": 3
   },
   "file_extension": ".py",
   "mimetype": "text/x-python",
   "name": "python",
   "nbconvert_exporter": "python",
   "pygments_lexer": "ipython3",
   "version": 3
  },
  "orig_nbformat": 4
 },
 "nbformat": 4,
 "nbformat_minor": 2,
 "cells": [
  {
   "cell_type": "code",
   "execution_count": null,
   "metadata": {},
   "outputs": [],
   "source": [
    "import pandas as pd\n",
    "import numpy as np\n",
    "from datetime import datetime \n",
    "import os\n",
    "import matplotlib.pyplot as plt\n",
    "import matplotlib.colors as mcolors"
   ]
  },
  {
   "cell_type": "code",
   "execution_count": null,
   "metadata": {},
   "outputs": [],
   "source": [
    "fig, ax = plt.subplots(figsize=(15,8))\n",
    "ax = X.corr()['Churn'].sort_values(ascending = False).plot(kind='bar', color= ('r', 'b', 'g', 'c', 'm', 'y', 'slategrey', 'lime', 'turquoise', 'orange', 'teal') )\n",
    "plt.xticks(rotation=60, fontsize=15)\n",
    "plt.rcParams['font.family'] = 'fantasy'\n",
    "ax.set_title('Churn & Feature Correlation', fontsize=20)\n",
    "ax.set_xlabel('Features', fontsize=18) \n",
    "ax.set_facecolor('lavender')\n",
    "plt.tight_layout()\n",
    "plt.show()"
   ]
  }
 ]
}